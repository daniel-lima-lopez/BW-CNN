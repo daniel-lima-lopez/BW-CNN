{
 "cells": [
  {
   "cell_type": "markdown",
   "metadata": {},
   "source": [
    "# Example of HMNIST using BW-CNN"
   ]
  },
  {
   "cell_type": "code",
   "execution_count": null,
   "metadata": {},
   "outputs": [],
   "source": [
    "import numpy as np\n",
    "import tensorflow_datasets as tfds\n",
    "import cv2 as cv\n",
    "import tensorflow as tf\n",
    "import FourierNetworks as fn"
   ]
  },
  {
   "cell_type": "markdown",
   "metadata": {},
   "source": [
    "## Auxiliary functions"
   ]
  },
  {
   "cell_type": "code",
   "execution_count": null,
   "metadata": {},
   "outputs": [],
   "source": [
    "# import HMNIST dataset and resize\n",
    "def get_HMNIST(resize_dim=None):\n",
    "    data = tfds.load('colorectal_histology', split='train', shuffle_files=True)\n",
    "\n",
    "    Xs = []\n",
    "    ys = []\n",
    "    for di in data:\n",
    "        img = np.array(di['image'], dtype=np.uint8)\n",
    "        label = np.array(di['label'])\n",
    "\n",
    "        if resize_dim != None:\n",
    "            img = cv.resize(img, (resize_dim,resize_dim))\n",
    "        \n",
    "        Xs.append(img)\n",
    "        ys.append(label)\n",
    "    Xs = np.array(Xs, dtype=np.float32)\n",
    "    ys = np.array(ys, dtype=np.float32)\n",
    "\n",
    "    return Xs, ys\n",
    "\n",
    "# performs the centered Fourier transform of images\n",
    "def freq_data_3d(data, shift=True, out_dim=None):\n",
    "    Xs = []\n",
    "    for img in data:\n",
    "        # Fourier transform\n",
    "        fft = []\n",
    "        for i in range(3):\n",
    "            ffti = np.fft.fft2(img[:,:,i])\n",
    "            if shift:\n",
    "                ffti = np.fft.fftshift(ffti)\n",
    "            fft.append(ffti)\n",
    "        fft = np.array(fft)\n",
    "        fft = np.swapaxes(fft, 0,2)\n",
    "        fft = np.swapaxes(fft, 0,1)\n",
    "        Xs.append([np.real(fft), np.imag(fft)])\n",
    "    \n",
    "    Xs = np.array(Xs, dtype=np.float32)\n",
    "\n",
    "    if out_dim != None:\n",
    "        mid = int(Xs.shape[2]/2)\n",
    "        dx = int(out_dim/2)\n",
    "        print(mid, dx)\n",
    "        Xs = Xs[:,:,mid-dx:mid+dx,mid-dx:mid+dx,:]\n",
    "    \n",
    "    return Xs\n",
    "\n",
    "\n",
    "# identification of the epoch with maximum validation accuracy\n",
    "class MaxEpoch(tf.keras.callbacks.Callback):\n",
    "    def __init__(self, epochs):\n",
    "        super().__init__()\n",
    "        self.epochs = epochs # number of epochs\n",
    "        self.val_loss = [] # loss functions data\n",
    "\n",
    "        self.max_epoch = 0\n",
    "        self.max_val_acc = 0.0\n",
    "        self.max_weights = None\n",
    "\n",
    "    def on_epoch_end(self, epoch, logs=None):\n",
    "        if logs.get('val_acc') > self.max_val_acc:\n",
    "            self.max_epoch = epoch\n",
    "            self.max_val_acc = logs.get('val_acc')\n",
    "            self.max_weights = self.model.get_weights()\n",
    "        self.val_loss.append(logs.get('val_loss'))\n",
    "\n",
    "        return super().on_epoch_end(epoch, logs)\n",
    "\n",
    "    def on_train_end(self, logs=None):\n",
    "        return super().on_train_end(logs)\n"
   ]
  },
  {
   "cell_type": "markdown",
   "metadata": {},
   "source": [
    "## Data preparation"
   ]
  },
  {
   "cell_type": "code",
   "execution_count": null,
   "metadata": {},
   "outputs": [],
   "source": [
    "data, labels = get_HMNIST(resize_dim=128)\n",
    "data = freq_data_3d(data) # centered Fourier transform\n",
    "\n",
    "# split train (70%), val (10%), test (20%)\n",
    "inds = np.arange(0, len(data), 1, dtype=np.int32)\n",
    "np.random.seed(1) # seed\n",
    "np.random.shuffle(inds)\n",
    "inds_train = inds[0:int(0.7*len(data))]\n",
    "inds_val = inds[int(0.7*len(data)): int(0.8*len(data))]\n",
    "inds_test = inds[int(0.8*len(data)):]\n",
    "\n",
    "X_train = data[inds_train]\n",
    "y_train = labels[inds_train]\n",
    "X_val = data[inds_val]\n",
    "y_val = labels[inds_val]\n",
    "X_test = data[inds_test]\n",
    "y_test = labels[inds_test]\n",
    "\n",
    "# free memory\n",
    "data = None\n",
    "labels = None\n",
    "\n",
    "X_train.shape, X_val.shape, X_test.shape"
   ]
  },
  {
   "cell_type": "markdown",
   "metadata": {},
   "source": [
    "## Training and evaluation on test set"
   ]
  },
  {
   "cell_type": "code",
   "execution_count": null,
   "metadata": {},
   "outputs": [],
   "source": [
    "# hyperparameters\n",
    "epochs = 10\n",
    "lr = 0.00001\n",
    "momentum = 0.9\n",
    "batch_size = 32\n",
    "\n",
    "# BW-CNN architecture\n",
    "input = tf.keras.layers.Input((2,128,128,3))\n",
    "    \n",
    "c1 = fn.ButterworthLayer(filters=8, norm=1.0, es=0.45, d=2, act='crelu')(input)\n",
    "p1 = fn.Spect_Avg_Pool()(c1)\n",
    "\n",
    "c2 = fn.ButterworthLayer(filters=32, norm=1.0, es=0.45, d=2, act='crelu')(p1)\n",
    "p2 = fn.Spect_Avg_Pool()(c2)\n",
    "\n",
    "c3 = fn.ButterworthLayer(filters=64, norm=1.0, es=0.45, d=2, act='crelu')(p2)\n",
    "p3 = fn.Spect_Avg_Pool()(c3)\n",
    "\n",
    "ifft = fn.IFFT()(p3)\n",
    "flat = tf.keras.layers.Flatten()(ifft)\n",
    "bn = tf.keras.layers.BatchNormalization()(flat)\n",
    "\n",
    "dense = tf.keras.layers.Dense(128, 'relu')(bn)\n",
    "out = tf.keras.layers.Dense(8, 'softmax')(dense)\n",
    "model = tf.keras.Model(input, out)\n",
    "model.summary()\n",
    "\n",
    "model.compile(\n",
    "    optimizer=tf.keras.optimizers.SGD(learning_rate=lr, momentum=momentum),\n",
    "    loss=tf.keras.losses.SparseCategoricalCrossentropy(),\n",
    "    metrics=[\"acc\"]\n",
    "    )\n",
    "callback = MaxEpoch(epochs=epochs)\n",
    "model.fit(X_train, y_train, batch_size=batch_size, epochs=epochs, validation_data=(X_val, y_val),\n",
    "                        callbacks=callback, shuffle=True)\n",
    "\n",
    "# evaluation on test set\n",
    "model_max = tf.keras.models.clone_model(model)\n",
    "model_max.set_weights(callback.max_weights)\n",
    "\n",
    "m = tf.keras.metrics.CategoricalAccuracy()\n",
    "m.reset_state()\n",
    "m.update_state(tf.one_hot(y_test, depth=8), model_max.predict(X_test))\n",
    "test_max_acc = m.result().numpy()\n",
    "\n",
    "print(f'\\n---- MAX EPOCH: {callback.max_epoch+1} TEST_ACC: {test_max_acc} ----')"
   ]
  }
 ],
 "metadata": {
  "kernelspec": {
   "display_name": "tfGPU",
   "language": "python",
   "name": "python3"
  },
  "language_info": {
   "codemirror_mode": {
    "name": "ipython",
    "version": 3
   },
   "file_extension": ".py",
   "mimetype": "text/x-python",
   "name": "python",
   "nbconvert_exporter": "python",
   "pygments_lexer": "ipython3",
   "version": "3.9.18"
  }
 },
 "nbformat": 4,
 "nbformat_minor": 2
}
